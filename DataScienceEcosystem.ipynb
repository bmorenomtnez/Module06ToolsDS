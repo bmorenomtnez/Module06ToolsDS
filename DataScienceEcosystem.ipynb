{
 "cells": [
  {
   "cell_type": "markdown",
   "id": "ba014669-ca44-4b28-b0f0-7acd8ba831ad",
   "metadata": {},
   "source": [
    "#  Data Science Tools and Ecosystem"
   ]
  },
  {
   "cell_type": "markdown",
   "id": "2891f3e7-6078-4c5e-ac45-eb3218c8ffe2",
   "metadata": {},
   "source": [
    "In this notebook, Data Science Tools and Ecosystem are summarized."
   ]
  },
  {
   "cell_type": "markdown",
   "id": "216ebbe1-e3ba-4c1e-b57d-d1b6ea22d1c6",
   "metadata": {},
   "source": [
    "**Objectives**\n",
    "- List popular languages for Data Sciencie\n",
    "- List commonly used libraries used by Data Scientists\n",
    "- Data Sience Tools\n",
    "- Some examples with Python"
   ]
  },
  {
   "cell_type": "markdown",
   "id": "29cc4743-e51d-42df-8f4b-97507e9cfd12",
   "metadata": {},
   "source": [
    "Some of the popular languages that Data Scientists use are:\n",
    "1. **Python**: Simplicity and extensive libraries for data analysis, visualization and machine learning\n",
    "2. **R**: Strong statistical analysis and visualization\n",
    "3. **SQL**: Query and manage database\n",
    "4. **Scala**: Used in big data processing with frameworks like Apache Spark.\n",
    "5. **Julia**: High performance in numerical and scientific computing"
   ]
  },
  {
   "cell_type": "markdown",
   "id": "b46422f5-6903-4bea-b855-b873e92760c0",
   "metadata": {},
   "source": [
    "Some of the commonly used libraries used by Data Scientists include:\n",
    "1. *NumPy*: For numerical computing and array operations.\n",
    "2. *Pandas*: For data manipulation and analysis.\n",
    "3. *Matplotlib*: For creating static, dynamic and interactive visualizations.\n",
    "4. *Seaborn*: For statistical data visualization, built on top of Matplotlib.\n",
    "5. *Scikit-learn*: For machine learning and data mining.\n",
    "6. *Keras*: For building and training deep learning models.\n",
    "7. *TensorFlow*: For deep learning and neural networks.\n",
    "8. *PyTorch*: For deep learning (regression, clasification)."
   ]
  },
  {
   "cell_type": "markdown",
   "id": "a8a75df0-22f8-4068-bbad-acf9f8988ff4",
   "metadata": {},
   "source": [
    "| Data Science Tools |\n",
    "| ----- |\n",
    "| Jupyter Notebooks |\n",
    "| RStudio |\n",
    "| Apache Spark |\n",
    "| Apache Hadoop |\n",
    "| TensorFlow |\n",
    "| Spyder |"
   ]
  },
  {
   "cell_type": "markdown",
   "id": "a1e271bd-9ba1-431b-84b0-5d4cb74bdad2",
   "metadata": {},
   "source": [
    "### Below are a few examples of evaluating arithmetic expressions in Python."
   ]
  },
  {
   "cell_type": "code",
   "execution_count": 1,
   "id": "ecaf83fb-fe92-4363-9dc1-952a6f246781",
   "metadata": {},
   "outputs": [
    {
     "data": {
      "text/plain": [
       "17"
      ]
     },
     "execution_count": 1,
     "metadata": {},
     "output_type": "execute_result"
    }
   ],
   "source": [
    "#This a simple arithmetic expression to mutiply then add integers.\n",
    "(3*4)+5"
   ]
  },
  {
   "cell_type": "code",
   "execution_count": 1,
   "id": "9e1c5043-f272-449d-afd7-63b3016b0fac",
   "metadata": {},
   "outputs": [
    {
     "data": {
      "text/plain": [
       "3.3333333333333335"
      ]
     },
     "execution_count": 1,
     "metadata": {},
     "output_type": "execute_result"
    }
   ],
   "source": [
    "#This will convert 200 minutes to hours by diving by 60\n",
    "200/60"
   ]
  },
  {
   "cell_type": "markdown",
   "id": "d6de8a0b-5c2a-4769-b1cc-2931b5129357",
   "metadata": {},
   "source": [
    "## Author\n",
    "Bartolomé Moreno Martínez"
   ]
  },
  {
   "cell_type": "code",
   "execution_count": null,
   "id": "daefd29f-5941-4f57-b690-3af69fe38569",
   "metadata": {},
   "outputs": [],
   "source": []
  }
 ],
 "metadata": {
  "kernelspec": {
   "display_name": "Python 3 (ipykernel)",
   "language": "python",
   "name": "python3"
  },
  "language_info": {
   "codemirror_mode": {
    "name": "ipython",
    "version": 3
   },
   "file_extension": ".py",
   "mimetype": "text/x-python",
   "name": "python",
   "nbconvert_exporter": "python",
   "pygments_lexer": "ipython3",
   "version": "3.11.9"
  }
 },
 "nbformat": 4,
 "nbformat_minor": 5
}
